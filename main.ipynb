{
 "cells": [
  {
   "cell_type": "markdown",
   "source": [],
   "metadata": {
    "collapsed": false
   },
   "id": "5c086e9525a2492"
  },
  {
   "cell_type": "markdown",
   "source": [
    "## Installing | Escaping to shell\n",
    "\n",
    "On Google Colab the shell is `bash`. However, if you running on MacOS is it `zsh`, and Windows it is `Batch` or `Powershell`.\n",
    "All the command here should work on any OS, but be careful."
   ],
   "metadata": {
    "collapsed": false
   },
   "id": "77474c0ad68cb9bf"
  },
  {
   "cell_type": "code",
   "execution_count": null,
   "id": "initial_id",
   "metadata": {
    "collapsed": true
   },
   "outputs": [],
   "source": []
  },
  {
   "cell_type": "markdown",
   "source": [
    "## Git"
   ],
   "metadata": {
    "collapsed": false
   },
   "id": "60002a4ca0882a3b"
  },
  {
   "cell_type": "code",
   "execution_count": null,
   "outputs": [],
   "source": [],
   "metadata": {
    "collapsed": false
   },
   "id": "17214131bf74ec05"
  }
 ],
 "metadata": {
  "kernelspec": {
   "display_name": "Python 3",
   "language": "python",
   "name": "python3"
  },
  "language_info": {
   "codemirror_mode": {
    "name": "ipython",
    "version": 2
   },
   "file_extension": ".py",
   "mimetype": "text/x-python",
   "name": "python",
   "nbconvert_exporter": "python",
   "pygments_lexer": "ipython2",
   "version": "2.7.6"
  }
 },
 "nbformat": 4,
 "nbformat_minor": 5
}
