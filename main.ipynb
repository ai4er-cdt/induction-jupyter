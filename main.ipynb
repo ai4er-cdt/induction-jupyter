{
 "cells": [
  {
   "cell_type": "markdown",
   "source": [
    "# Quick words\n",
    "This notebook will try to cover a lot in not a lot of time, so feel free to come back to it at anytime."
   ],
   "metadata": {
    "collapsed": false
   },
   "id": "67ec98e23c76cfc3"
  },
  {
   "cell_type": "code",
   "execution_count": null,
   "outputs": [],
   "source": [
    "from __future__ import annotations\t\t# Do not worry about this line for now, it will come clearer later\n",
    "# BUT RUN THE CELL!"
   ],
   "metadata": {
    "collapsed": false
   },
   "id": "f1b416a6096e4f75"
  },
  {
   "cell_type": "markdown",
   "source": [
    "Also, I haven't forgotten the people who already are comfortable in Python, there will be some advanced topic or things you didn't know to keep you on your toes, like this ;)"
   ],
   "metadata": {
    "collapsed": false
   },
   "id": "9f6ec535308e5932"
  },
  {
   "cell_type": "code",
   "execution_count": null,
   "outputs": [],
   "source": [
    "import antigravity"
   ],
   "metadata": {
    "collapsed": false
   },
   "id": "42f3b27cc596b1b0"
  },
  {
   "cell_type": "markdown",
   "source": [
    "# The basics of a Notebook\n",
    "Sorry for this small interruption...\n",
    "Getting back on track!\n",
    "\n",
    "## Cell types\n",
    "A notebook (actually a json file for the curious) is separated into cells.\n",
    "There are two cells `Markdown` cells and `code` cells. \n",
    "Markdown cells are the ones used to write text, using, as you guess it, markdown language (fancy name to say using normal text file \n",
    "that can be set with basic html formatting really easily).\n",
    "This gives a really useful description of the formatting in markdown: https://www.markdownguide.org/basic-syntax/\n",
    "Code cells are used to run code (you'll see them later) through the IPython kernel (which gives a bit more functionalities than standard Python).\n",
    "Python usually, but you can always escape to the shell."
   ],
   "metadata": {
    "collapsed": false
   },
   "id": "9fd555eaae2478b7"
  },
  {
   "cell_type": "code",
   "execution_count": null,
   "outputs": [],
   "source": [
    "print(\"This is code cell\")"
   ],
   "metadata": {
    "collapsed": false
   },
   "id": "f30d35427ada027f"
  },
  {
   "cell_type": "markdown",
   "source": [
    "## Escaping to shell\n",
    "Let's say you want to run something that is not Python in a notebook.\n",
    "First, why would you want to do this?  \n",
    "- To install a dependency (in Colab), maybe?\n",
    "- Or you want to check something, but you only know the command in `bash` and in python would be annoying to code.\n",
    "- Something else (I'm not your mum, you can do what you want)\n",
    "\n",
    "Running something that is not Python is called `escaping`, as you are escaping the python interpreter and landing in your `shell`.\n",
    "On Google Colab the shell is `bash` as it uses a Linux distribution.  \n",
    "However, if you are running on macOS 10.15 or above it is `zsh`.\n",
    "On Windows it is `cmd` (default) or `PowerShell`.\n",
    "All the command given here should work on any OS, but be careful when you are on your own.\n",
    "\n",
    "So how do you escape?  \n",
    "Easy use `!` at the start of the line, and the line will be escaped. \n",
    "Yes there's a way to make multiline escaping, but from experience you rarely need it, and it behaves not always as expected (tested in a Google Colab, so take as it is).\n",
    "\n",
    "### Installing dependencies \n",
    "So, let's install the dependencies from the notebook, by escaping.\n",
    "But instead of installing all the packages one by one let's use the convenient `requirements.txt`\n",
    "#TODO Fix this bit, and make sure to only use conda (cartopy is annoying \n"
   ],
   "metadata": {
    "collapsed": false
   },
   "id": "f564f7ba53f9f56c"
  },
  {
   "cell_type": "code",
   "execution_count": null,
   "outputs": [],
   "source": [
    "!pip3 install -r requirements.txt"
   ],
   "metadata": {
    "collapsed": false
   },
   "id": "870d2ae03e1a150f"
  },
  {
   "cell_type": "markdown",
   "source": [
    "For people who chose `conda` or `mamba` everything got install when creating the environment from the file, so you don't have to do a thing.\n",
    "If you didn't use the `environment.yml` you can try the following:\n",
    "\n",
    "Or manually with conda\n",
    "```shell\n",
    "!conda install numpy ....\n",
    "```"
   ],
   "metadata": {
    "collapsed": false
   },
   "id": "2fdd25d9f6dbde7f"
  },
  {
   "cell_type": "markdown",
   "source": [
    "Apparently you can do this, but I could not test it reliably"
   ],
   "metadata": {
    "collapsed": false
   },
   "id": "1406a0b000aebbd1"
  },
  {
   "cell_type": "code",
   "execution_count": null,
   "outputs": [],
   "source": [
    "!conda install --yes --file requirements.txt"
   ],
   "metadata": {
    "collapsed": false
   },
   "id": "a100f679c1e71e63"
  },
  {
   "cell_type": "markdown",
   "source": [
    "## git\n",
    "Now, it is good time to mention `git` and it's relationship with notebooks.  \n",
    "It's complicated.\n",
    "\n",
    "`git`, for those who don't know, to track changes in your files as you code. See it as a timeline of snapshot of your code. \n",
    "You manually take these snapshot by doing a \"commit\". `git`, then looks at the difference (called a `diff`) between before and after the commit to know what changes.\n",
    "The issue is that notebooks stores a lot of metadata and boilerplates code (json) in the file, so the `diff` can be easily messy and not that useful.\n",
    "That's why I would highly recommend to clear the outputs of every cell before committing.\n",
    "\n",
    "\n",
    "Also don't use escaping in a notebook to use git for that notebook. Best to use the terminal, or worse case another notebook that is not part of the repository you want to commit too (I had to this once, in Google Colab).\n",
    "\n",
    "If you did not understand this, just remember this: \n",
    "- \"Clear all the outputs, before commits\"\n",
    "- \"If you are not sure with git, ask for help!\""
   ],
   "metadata": {
    "collapsed": false
   },
   "id": "adb07e0937b5e763"
  },
  {
   "cell_type": "markdown",
   "source": [
    "# Notebook: when to use and not use\n",
    "So, to come clean with you...\n",
    "I don't really like notebook most of the time, and I am quite fond of a good old python script file.\n",
    "\n",
    "But there are some instances where I think a notebook is better:\n",
    "- Showcasing some library\n",
    "- Doing a workshop/guided exercise (like this)\n",
    "- Explaining something with interactive code.\n",
    "- Quickly and dirtly (is that word) throw some code together to try something like plotting, but once sorted should be moved to a script (if relevant).\n",
    "\n",
    "I have seen notebooks that are uncommented (no cell text cells), had to run cells in non sequentially order, outputs were not cleaned (okay if it is to show the expected output).\n",
    "Or duplicate code between to notebook, because you cannot import code from a notebook to another (that's why we have .py file for scripts).\n",
    "And worse of all have all the code (and I mean all) in one cell. \n",
    "\n",
    "Notebooks are also resource intensive, it is running a server in the background."
   ],
   "metadata": {
    "collapsed": false
   },
   "id": "dafbcaaa1df3cb02"
  },
  {
   "cell_type": "markdown",
   "source": [
    "# Magic\n",
    "\n",
    "A notebook is running in IPython, which means `magics`.\n",
    "Magics are command that are specific to the IPython kernel (and thus jupyter).\n",
    "They are called by `escaping` with a `%` for line mode, and `%%` for cell mode."
   ],
   "metadata": {
    "collapsed": false
   },
   "id": "41a291a185e0db4c"
  },
  {
   "cell_type": "code",
   "execution_count": null,
   "outputs": [],
   "source": [
    "%pwd"
   ],
   "metadata": {
    "collapsed": false
   },
   "id": "886348408d2f12de"
  },
  {
   "cell_type": "markdown",
   "source": [
    "Or this:"
   ],
   "metadata": {
    "collapsed": false
   },
   "id": "8b5a72e139c96fe5"
  },
  {
   "cell_type": "code",
   "execution_count": null,
   "outputs": [],
   "source": [
    "%time 2**128"
   ],
   "metadata": {
    "collapsed": false
   },
   "id": "bd077d8fae4827d7"
  },
  {
   "cell_type": "code",
   "execution_count": null,
   "outputs": [],
   "source": [
    "%%timeit\n",
    "pass"
   ],
   "metadata": {
    "collapsed": false
   },
   "id": "c787a42b348f379a"
  },
  {
   "cell_type": "markdown",
   "source": [
    "The `%%timeit` is my favourite.\n",
    "\n",
    "And all of them works in a terminal, as long as you are running IPython.\n",
    "The python console in PyCharms uses IPython by default.\n",
    "\n",
    "Here is all the magics commands if you want: https://ipython.readthedocs.io/en/stable/interactive/magics.html#"
   ],
   "metadata": {
    "collapsed": false
   },
   "id": "649186f6f415d89e"
  },
  {
   "cell_type": "markdown",
   "source": [
    "# Python Basic\n",
    "\n",
    "Okay, enough teasing with coding and notebook and git!  \n",
    "We're here to code!\n",
    "\n",
    "What better place to starts than the basics?  \n",
    "\"What again some basics?\" you are probably thinking.\n",
    "Well you all have at least some coding experience, maybe not in Python.\n",
    "So I'll assume you know what a `for` loop and variable are, but focusing on some differences and quirk of Python compared to other languages - looking at you `R` and `MATLAB`."
   ],
   "metadata": {
    "collapsed": false
   },
   "id": "ada2b21e32953f63"
  },
  {
   "cell_type": "markdown",
   "source": [
    "## Indentation\n",
    "Python is extremely strict with indentation: it needs it!\n",
    "Where in `C` the scope of a function, loops, or if-statement is defined with {}, **python uses colon and indentation**.\n",
    "Like this:"
   ],
   "metadata": {
    "collapsed": false
   },
   "id": "3e5a528f265eadca"
  },
  {
   "cell_type": "code",
   "execution_count": null,
   "outputs": [],
   "source": [
    "for i in range(10):\t\n",
    "\tprint(i)"
   ],
   "metadata": {
    "collapsed": false
   },
   "id": "40cc6bab6f3939b8"
  },
  {
   "cell_type": "markdown",
   "source": [
    "Oh and yes, I am using tabs and not spaces!  \n",
    "I will die on that hill! \n",
    "(It's a question of accessibility, so people can set their tab spacing to their liking and be stuck by hard-coded spaces)\n",
    ">[M]any blind and visually impaired people programmers prefer tabs for indentation. The reason behind this is pretty easy to explain. Blind people use screen reading software to read the contents of the screen, accompanied by a braille display that shows a single line of text in braille. Most common braille displays have 40 cells, meaning they are able to show 40 characters at once. There are also braille displays that have double that size.\n",
    "Now usually, a tab takes only one cell on a braille display, whereas four spaces take four cells. In other words, having a block of indentation that has 20 spaces in front of the code means that half of the common braille display is swallowed up by spacing, compared to only five cells when using tabs."
   ],
   "metadata": {
    "collapsed": false
   },
   "id": "7acfe4d2cd2b8118"
  },
  {
   "cell_type": "markdown",
   "source": [
    "## Indexing\n",
    "\n",
    "As most programming languages (expect `R`, `MATLAB`, and `lua` to name a few), `Python` uses **zero-based indexing**.\n",
    "This means this:"
   ],
   "metadata": {
    "collapsed": false
   },
   "id": "8f87df9f9ceed221"
  },
  {
   "cell_type": "code",
   "execution_count": null,
   "outputs": [],
   "source": [
    "lst = [\"a\", \"b\", \"c\", \"d\"]\n",
    "print(f\"First element {lst[0]}\")\n",
    "print(\"Last element\", lst[-1])\t\t# Not the -1 can be slow if the list is really really really big"
   ],
   "metadata": {
    "collapsed": false
   },
   "id": "c447159194af13e7"
  },
  {
   "cell_type": "markdown",
   "source": [
    "The first elements is index `0`, the last of is `-1`.\n",
    "\n",
    "Also, I've just showed two types of string formatting:\n",
    "The first one is called f-string (obviously) and is more readable and can evaluate values between the {} on the fly (I really like them, and will be using them a lot).\n",
    "The second, is the vanilla string formatting. "
   ],
   "metadata": {
    "collapsed": false
   },
   "id": "22000d8b2b6a07af"
  },
  {
   "cell_type": "markdown",
   "source": [
    "For people new to python `range` is the function to generate an iterator.\n",
    "It takes the following arguments `range(stop)` or `range(start, stop[, step])`, by default the start is 0 and step is one.\n",
    "Additionally, the **stop values is excluded**, to make it easy to work with zero-based indexing.\n",
    "So guess the following:"
   ],
   "metadata": {
    "collapsed": false
   },
   "id": "8176a557afe4e41a"
  },
  {
   "cell_type": "code",
   "execution_count": null,
   "outputs": [],
   "source": [
    "for i in range(0, 20):\n",
    "\tprint(i)"
   ],
   "metadata": {
    "collapsed": false
   },
   "id": "63e80c083c94e051"
  },
  {
   "cell_type": "markdown",
   "source": [
    "Now your turn (if you want) to print every odd number between 1 and 100 (included)."
   ],
   "metadata": {
    "collapsed": false
   },
   "id": "36dd0ba71400b5e0"
  },
  {
   "cell_type": "code",
   "execution_count": null,
   "outputs": [],
   "source": [
    "# Your code here\n"
   ],
   "metadata": {
    "collapsed": false
   },
   "id": "14cc3b93a063e713"
  },
  {
   "cell_type": "markdown",
   "source": [
    "You can also do it in reverse order (not the values):"
   ],
   "metadata": {
    "collapsed": false
   },
   "id": "695c5a39ae9f3414"
  },
  {
   "cell_type": "code",
   "execution_count": null,
   "outputs": [],
   "source": [
    "for i in range(10, -1, -1):\n",
    "\tprint(i)"
   ],
   "metadata": {
    "collapsed": false
   },
   "id": "43a00918cf0b77ba"
  },
  {
   "cell_type": "markdown",
   "source": [
    "## Dictionary\n",
    "\n",
    "So `Python` as this cool object type called a dictionary.\n",
    "For reference in other language (to name a lot):\n",
    "- **JavaScript**: Object or Map\n",
    "- **Java**: HashMap, Hashtable, or TreeMap\n",
    "- **C**++: std::unordered_map (for hash tables), std::map (for balanced trees)\n",
    "- **C**#: Dictionary or Hashtable\n",
    "- **PHP**: Associative Array\n",
    "- **R**: Named List\n",
    "- **MATLAB**: containers.Map"
   ],
   "metadata": {
    "collapsed": false
   },
   "id": "ff86a962f582f16f"
  },
  {
   "cell_type": "code",
   "execution_count": null,
   "outputs": [],
   "source": [
    "my_dict = {'name': 'Alice', 'age': 30, 'email': 'alice@email.com'}\n",
    "my_dict"
   ],
   "metadata": {
    "collapsed": false
   },
   "id": "af4ad427257d556d"
  },
  {
   "cell_type": "markdown",
   "source": [
    "(Yes, it prints without a print, how? it's an IPython thing, and only display the last code line)"
   ],
   "metadata": {
    "collapsed": false
   },
   "id": "df88143a8f7f1aa3"
  },
  {
   "cell_type": "markdown",
   "source": [
    "## Functions and lambda\n",
    "\n",
    "Python as two main types of functions: __standard__ and __lambda__.\n",
    "\n",
    "### Standard function\n",
    "Standard function (user-defined) are defined by using the keyword `def`.\n",
    "And if they return something, the `return` keyword (where the function stops)."
   ],
   "metadata": {
    "collapsed": false
   },
   "id": "d3870db2986756b3"
  },
  {
   "cell_type": "code",
   "execution_count": null,
   "outputs": [],
   "source": [
    "def sqrt(x):\n",
    "\treturn x ** 0.5\t\t\t# ** is the python way of doing powers.\n",
    "\n",
    "sqrt(3)"
   ],
   "metadata": {
    "collapsed": false
   },
   "id": "d6008768b5e17dea"
  },
  {
   "cell_type": "markdown",
   "source": [
    "## Lambda function\n",
    "Lambda function or anonymous functions are define inline and only contains a single expression.\n",
    "They are concise and can be useful for simple operations, often used as arguments to higher-order functions like map, filter, and sorted."
   ],
   "metadata": {
    "collapsed": false
   },
   "id": "4151166a73573268"
  },
  {
   "cell_type": "code",
   "execution_count": null,
   "outputs": [],
   "source": [
    "sqrt = lambda x: x ** 0.5\n",
    "\n",
    "sqrt(2)"
   ],
   "metadata": {
    "collapsed": false
   },
   "id": "52a649c7e79ab33e"
  },
  {
   "cell_type": "markdown",
   "source": [
    "#### Generators\n",
    "For advanced people: do you know about generator functions?  \n",
    "A function that uses the `yield` keyword, which outputs changes everytime its value is accessed.  \n",
    "Can you guess what this code does?"
   ],
   "metadata": {
    "collapsed": false
   },
   "id": "ae6e235c87769367"
  },
  {
   "cell_type": "code",
   "execution_count": null,
   "outputs": [],
   "source": [
    "def generate_squares(n):\n",
    "\tfor i in range(1, n + 1):\n",
    "\t\tyield i * i\n",
    "\n",
    "square_generator = generate_squares(5)\n",
    "\n",
    "for square in square_generator:\n",
    "\tprint(square)"
   ],
   "metadata": {
    "collapsed": false
   },
   "id": "f5d1b258c2491f62"
  },
  {
   "cell_type": "markdown",
   "source": [
    "## Other object types\n",
    "\n",
    "If you are familiar with another language you may want a specific object type, you can create your own, but I'd advise having a look at the python's standard library (no need to install) `collections`: https://docs.python.org/3/library/collections.html\n",
    "\n",
    "And if you want to do some wierd things with a list or similar: https://docs.python.org/3/library/itertools.html"
   ],
   "metadata": {
    "collapsed": false
   },
   "id": "fd34a30dcacdafd1"
  },
  {
   "cell_type": "markdown",
   "source": [
    "## Paths and OS\n",
    "\n",
    "This is the point where Windows is the annoying one...\n",
    "For instance this folder structure:\n",
    "├── tier1  \n",
    "│      ├── images  \n",
    "│      │      └── image_01.png  \n",
    "\n",
    "macOS and Linux will give the path as: `tier1/images/image_01.png`  \n",
    "Whereas Windows is: `tier1\\images\\image_01.png` \n",
    "\n",
    "Put there's a catch `\\` is a reserved character in Python.\n",
    "It is used for a new line `\\n` or a tab `\\t` and so on.  \n",
    "So if you want to actually type `\\` you need to escape it, with a `\\`.  \n",
    "Yep, you read that correctly... this means the above path in Windows becomes: `tier1\\\\images\\\\image_01.png`  \n",
    "\n",
    "This is great don't you think? Well, if you are only using one OS kinda, but how can you be sure this will ever be the case?  \n",
    "What is the solution? Try one, catching the error if it does work to do use the other path? Nah, too complicated!\n",
    "\n",
    "The solution is using a package. Actually two or good and in standard library: `os` and `pathlib`.  \n",
    "Here we'll only use `os` but you are welcome to try `pathlib`.\n",
    "\n",
    "For instance, and you do not have to care about the `/` in the string"
   ],
   "metadata": {
    "collapsed": false
   },
   "id": "17cabc8d8e2b1e65"
  },
  {
   "cell_type": "code",
   "execution_count": null,
   "outputs": [],
   "source": [
    "import os\n",
    "\n",
    "os.path.abspath(\"tier1/images/image_01.png\")\t\t# This gives the absolute path"
   ],
   "metadata": {
    "collapsed": false
   },
   "id": "2381b9bcf1ca4023"
  },
  {
   "cell_type": "markdown",
   "source": [
    "You can even add paths together"
   ],
   "metadata": {
    "collapsed": false
   },
   "id": "2259f6f7a2fdcce5"
  },
  {
   "cell_type": "code",
   "execution_count": null,
   "outputs": [],
   "source": [
    "root_dir = \"tier1\"\n",
    "image_dir = \"images\"\n",
    "image_name = \"image_01.png\"\n",
    "\n",
    "os.path.join(root_dir, image_dir, image_name)"
   ],
   "metadata": {
    "collapsed": false
   },
   "id": "27ed67d251872e95"
  },
  {
   "cell_type": "markdown",
   "source": [
    "## `__name__` and `\"__main__\"`\n",
    "\n",
    "You may come across the following"
   ],
   "metadata": {
    "collapsed": false
   },
   "id": "fd48ccebdcdfe74f"
  },
  {
   "cell_type": "code",
   "execution_count": null,
   "outputs": [],
   "source": [
    "def main():\n",
    "\t# code doing something\n",
    "\tpass\n",
    "\n",
    "\n",
    "if __name__ == \"__main__\":\n",
    "\tmain()\t"
   ],
   "metadata": {
    "collapsed": false
   },
   "id": "e4980d57cfa0d683"
  },
  {
   "cell_type": "markdown",
   "source": [
    "This is often used in Python scripts to identify whether the script is being run as the main programme or being imported as a module into another script.\n",
    "\n",
    "`__name__` is a special built-in variable in Python that gets the name of the current module.  \n",
    "When a Python script is run, `__name__` is set to `\"__main__\"` in the context of that script.  \n",
    "Therefore, the condition if `__name__ == \"__main__\":` will only be True if the script is being run directly (not imported).  \n",
    "\n",
    "This is helpful when doing scripts and want to test the code is working and execute only some code when you are running that file and not when you are importing a function from that script.  \n",
    "You can get a more detail explanation [here](https://realpython.com/if-name-main-python/)  \n",
    "I would recommend you to use it.\n",
    "\n",
    "Note: It always good practice to just put a function call (no variable declaration) inside the `if __name__ == \"__main__\":` anything will be in the global scope."
   ],
   "metadata": {
    "collapsed": false
   },
   "id": "ce6fc52294992662"
  },
  {
   "cell_type": "markdown",
   "source": [
    "# PEP8\n",
    "PEP 8 is the Python Enhancement Proposal that outlines the style guide for writing Python code.\n",
    "It was created to make Python code more readable.\n",
    "The term to make sure a code follows style guide is called linting.\n",
    "\n",
    "Here is an example, now which one is easier to read?"
   ],
   "metadata": {
    "collapsed": false
   },
   "id": "32f6a2c886155c40"
  },
  {
   "cell_type": "code",
   "execution_count": null,
   "outputs": [],
   "source": [
    "# Without PEP8\n",
    "def factorial(n):\n",
    "\tif n==0:return 1\n",
    "\telse:return n*factorial(n-1)\n",
    "\n",
    "\n",
    "# With PEP8\n",
    "def factorial(n):\n",
    "\tif n == 0:\n",
    "\t\treturn 1\n",
    "\telse:\n",
    "\t\treturn n * factorial(n - 1)"
   ],
   "metadata": {
    "collapsed": false
   },
   "id": "9736fddbbb09db80"
  },
  {
   "cell_type": "markdown",
   "source": [
    "Depending on the IDE, you may or may not have a linting to help you with it.\n",
    "PyCharm (which I use) will passive-aggressively underline code which does not follow PEP8 by default (you tweak it)."
   ],
   "metadata": {
    "collapsed": false
   },
   "id": "7719bf43bf44e503"
  },
  {
   "cell_type": "markdown",
   "source": [
    "# Useful things\n",
    "A collection of random and useful things for you when you code.\n",
    "\n",
    "## Type hints\n",
    "Python does not care if you define the type of the variables (contrary to `C` for instance), it will check at runtime.\n",
    "\n",
    "However, you as human being it might be helpful to be reminded of what type is a certain variable.  \n",
    "It can also make sure you don't do type changing or type mixing unless you are certain that's what you want (those are costly operation to perform for python).  \n",
    "Most helpful, it helps people and you (after a 2-week break) understand what your code is supposed to do.\n",
    "\n",
    "**Introducing type hints/hinting!**  \n",
    "What is this?  \n",
    "Well you just say what type is each variable, it won't help python as it will still check the variable type at runtime (for now), but if you are using an IDE (with the correct options) it will probably scream (nicely) at you.\n",
    "\n",
    "Taking the previous sqrt function and let's use type hint."
   ],
   "metadata": {
    "collapsed": false
   },
   "id": "3cc2313ac0160a36"
  },
  {
   "cell_type": "code",
   "execution_count": null,
   "outputs": [],
   "source": [
    "def sqrt(x: float) -> float:\n",
    "\treturn x ** 0.5"
   ],
   "metadata": {
    "collapsed": false
   },
   "id": "4f19ca7f65779b25"
  },
  {
   "cell_type": "markdown",
   "source": [
    "The function takes __any__ number (so a float) and returns a square root (so a float).\n",
    "\n",
    "See here for references:\n",
    "https://docs.python.org/3/library/typing.html\n",
    "\n",
    "**I will be using them as we go along.**\n",
    "**Note that if you are using python<3.10, may need to use the first code cell in this notebook to make it available.**\n",
    "The `from __future__ import annotations`.  \n",
    "Better to be safe, so I always add it to the top of each of my .py files.\n",
    "\n",
    "**For advanced people**: Another good thing from doing type hints, if you ever want to compile your code through Cython, you will need to do type hinting, and change the `def` into `cdef`, so you are half-way there."
   ],
   "metadata": {
    "collapsed": false
   },
   "id": "41db200068e4aaf4"
  },
  {
   "cell_type": "markdown",
   "source": [
    "## Zen of Python\n",
    "\n",
    "There is this thing in Python, that I think you ought to read at least once (it will improve your coding).  \n",
    "It is called the Zen of Python, here they are"
   ],
   "metadata": {
    "collapsed": false
   },
   "id": "e3f6d5205c55087d"
  },
  {
   "cell_type": "code",
   "execution_count": null,
   "outputs": [],
   "source": [
    "import this"
   ],
   "metadata": {
    "collapsed": false
   },
   "id": "5f970967ba1fbb0"
  },
  {
   "cell_type": "markdown",
   "source": [
    "## Docstrings\n",
    "You have this function and don't know what it does or use, what to do?  \n",
    "Call the help function, of course!"
   ],
   "metadata": {
    "collapsed": false
   },
   "id": "6ae7012195ad3b56"
  },
  {
   "cell_type": "code",
   "execution_count": null,
   "outputs": [],
   "source": [
    "help(print)"
   ],
   "metadata": {
    "collapsed": false
   },
   "id": "57b077edbcac17ec"
  },
  {
   "cell_type": "markdown",
   "source": [
    "Now you created a function and you want it have a help message. You can do it with what is called a docstring.  \n",
    "You do it by making a multiline comment (with these `\"\"\"`) just after the function declaration. "
   ],
   "metadata": {
    "collapsed": false
   },
   "id": "64390bd06c9ca522"
  },
  {
   "cell_type": "code",
   "execution_count": null,
   "outputs": [],
   "source": [
    "def sqrt(x: float) -> float:\n",
    "\t\"\"\"\n",
    "\tFunction to calculate the square root of a given number.\n",
    "\t\n",
    "\tParameters\n",
    "\t----------\n",
    "\tx : float,\n",
    "\t\tThe number for which the square root will be calculated.\n",
    "\n",
    "\tReturns\n",
    "\t-------\n",
    "\tfloat,\n",
    "\t\tThe square root of the given number.\n",
    "\t\t\n",
    "\tExamples\n",
    "\t--------\n",
    "\t>>> sqrt(4)\n",
    "\t2.0\n",
    "\t\"\"\"\n",
    "\treturn x ** 0.5\t\t\n",
    "\n",
    "help(sqrt)"
   ],
   "metadata": {
    "collapsed": false
   },
   "id": "30281425b03b0249"
  },
  {
   "cell_type": "markdown",
   "source": [
    "Note: I've used the [Numpy style](https://numpydoc.readthedocs.io/en/latest/format.html) of formatting the docstring by preference."
   ],
   "metadata": {
    "collapsed": false
   },
   "id": "33a2ab4fdbbee39b"
  },
  {
   "cell_type": "markdown",
   "source": [
    "## tqdm\n",
    "What is [tqdm](https://github.com/tqdm/tqdm)? It is a really useful library to do progress bar. This extremely valuable to know if your code is running, or is it running too slow.  \n",
    "It is not standard library, so you would need to install it in any project, it is already install for this one.  \n",
    "\n",
    "Here is an example."
   ],
   "metadata": {
    "collapsed": false
   },
   "id": "c4f1c1cae1028ef8"
  },
  {
   "cell_type": "code",
   "execution_count": null,
   "outputs": [],
   "source": [
    "from tqdm import tqdm\t\t# tqdm.auto is to allow correct behaviour in notebook\n",
    "from time import sleep\n",
    "\n",
    "for i in tqdm(range(1_000)):\t\t\t# Yes, you can use _ to format number and it will still work.\n",
    "\tsleep(0.01)"
   ],
   "metadata": {
    "collapsed": false
   },
   "id": "53a7361bb35068f5"
  },
  {
   "cell_type": "markdown",
   "source": [
    "Another useful one, although a bit less straightforward it [rich](https://github.com/Textualize/rich)"
   ],
   "metadata": {
    "collapsed": false
   },
   "id": "b79baa9618a713ab"
  },
  {
   "cell_type": "markdown",
   "source": [
    "## Error handling\n",
    "\n",
    "If you want to filter errors, you can do that with the `try`, `except` blocks.  \n",
    "Like this:"
   ],
   "metadata": {
    "collapsed": false
   },
   "id": "834743aa0cd3692f"
  },
  {
   "cell_type": "code",
   "execution_count": null,
   "outputs": [],
   "source": [
    "def divide(a: float, b: float) -> float | None:\n",
    "\ttry:\n",
    "\t\tresult = a / b\n",
    "\texcept ZeroDivisionError:\t\t # block catches the division-by-zero exception\n",
    "\t\tprint(\"Cannot divide by zero!\")\n",
    "\t\treturn None\t\t# will return None if division by zero\n",
    "\telse:\t\t# block executes if no exception occurs\n",
    "\t\treturn result\n",
    "\tfinally:\t# block executes no matter what, even if an exception is raised or not\n",
    "\t\tprint(\"Division operation attempted.\")\n",
    "\n",
    "# Test the function\n",
    "print(divide(10, 2))\n",
    "print(divide(10, 0))"
   ],
   "metadata": {
    "collapsed": false
   },
   "id": "5fd81e52dc271de3"
  },
  {
   "cell_type": "markdown",
   "source": [
    "## Import from another file\n",
    "\n",
    "To run code present in another file you can import it, similarly as importing packages.\n",
    "\n",
    "PLease tend to avoid importing everything as follows `form package import *` as this could import something with a name already taken.\n",
    "For instance, you have a function called `sqrt()` and you do `from math import *` now your function will clash with the `math.sqrt` but you might not be aware of it as you probably don't know all the function in a module.\n",
    "It is better to either import only what you need as `form math import sqrt` or import the package and call it from it like this `package.function()`:"
   ],
   "metadata": {
    "collapsed": false
   },
   "id": "3b7976cd3ac479fc"
  },
  {
   "cell_type": "code",
   "execution_count": null,
   "outputs": [],
   "source": [
    "import math\n",
    "\n",
    "a = math.sin(1)\n",
    "print(a)"
   ],
   "metadata": {
    "collapsed": false
   },
   "id": "c19d067e14e298b4"
  },
  {
   "cell_type": "markdown",
   "source": [
    "\n",
    "This is the exact same principle as import from another file.\n",
    "There is this file called `utils` which contains the function call `greetings`.\n",
    "Do you think you can import it in the next cell and run it? It should display something if done correctly."
   ],
   "metadata": {
    "collapsed": false
   },
   "id": "33d005666c10c9d4"
  },
  {
   "cell_type": "code",
   "execution_count": null,
   "outputs": [],
   "source": [
    "# Your code here\n",
    "\n",
    "\n"
   ],
   "metadata": {
    "collapsed": false
   },
   "id": "40d502740caa6b4b"
  },
  {
   "cell_type": "markdown",
   "source": [
    "## Serialization (advanced)\n",
    "Now if you want to save a variable to disk for later use this called serialization.\n",
    "The native way in Python is call `pickling` using the standard library `pickle`.  \n",
    "This is a bit out of the scope of the notebook put it worth knowing about it and having a go at it at some point."
   ],
   "metadata": {
    "collapsed": false
   },
   "id": "3b44e2cf7ab7f5b1"
  },
  {
   "cell_type": "markdown",
   "source": [
    "# IDE\n",
    "\n",
    "An IDE or Integrated Development Environment (I had to look it up) is a software that provides tools for software development.\n",
    "They help you code by providing (sometimes) a debugger, integrated git control, a console, linting, code suggestions, compiler/interpreter and others.\n",
    "\n",
    "The most famous one for Python are:\n",
    "- `VSCode` which can do everything (but not amazingly in my opinion)\n",
    "- `PyCharm` from `JetBrains` which is for Python (the one I use)\n",
    "- `Spyder` anaconda's own idea, it is definitely quirky (apparently it was made to be similar to MATLAB  _-shudder-_)"
   ],
   "metadata": {
    "collapsed": false
   },
   "id": "254fe715f95eaea7"
  },
  {
   "cell_type": "markdown",
   "source": [
    "Well done you made it through the first notebook.\n",
    "Now you can move to next notebook on numpy :)"
   ],
   "metadata": {
    "collapsed": false
   },
   "id": "60002a4ca0882a3b"
  }
 ],
 "metadata": {
  "kernelspec": {
   "display_name": "Python 3",
   "language": "python",
   "name": "python3"
  },
  "language_info": {
   "codemirror_mode": {
    "name": "ipython",
    "version": 2
   },
   "file_extension": ".py",
   "mimetype": "text/x-python",
   "name": "python",
   "nbconvert_exporter": "python",
   "pygments_lexer": "ipython2",
   "version": "2.7.6"
  }
 },
 "nbformat": 4,
 "nbformat_minor": 5
}
