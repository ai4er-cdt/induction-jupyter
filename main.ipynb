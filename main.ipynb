{
 "cells": [
  {
   "cell_type": "markdown",
   "source": [],
   "metadata": {
    "collapsed": false
   },
   "id": "5c086e9525a2492"
  },
  {
   "cell_type": "markdown",
   "source": [
    "# Escaping to shell\n",
    "On Google Colab the shell is `bash`. However, if you running on MacOS is it `zsh`, and Windows it is `Batch` or `Powershell`.\n",
    "All the command here should work on any OS, but be careful.\n",
    "\n",
    "## Installing dependencies \n",
    "\n",
    "\n",
    "## Git (don't do it from the nb if can avoid it)\n",
    "\n"
   ],
   "metadata": {
    "collapsed": false
   },
   "id": "77474c0ad68cb9bf"
  },
  {
   "cell_type": "markdown",
   "source": [
    "Notebook: when to use and not use\n",
    "magics (ipython)"
   ],
   "metadata": {
    "collapsed": false
   },
   "id": "41a291a185e0db4c"
  },
  {
   "cell_type": "markdown",
   "source": [
    "- File paths (os, pathlib)\n",
    "- PEP8 (pylint)\n",
    "- python basic:\n",
    "\t- indexing\n",
    "\t- dict\n",
    "\t- func, lambda\n",
    "\t- more info on python website collections\n",
    "\t- paths (os, pathlib)\n",
    "\t- importing other python file\n",
    "\t    - if __name__ == \"__main__\"\n",
    "- useful things\n",
    "\t- type hints\n",
    "\t    - avoid changing type\n",
    "\t- zen of python\n",
    "\t- docstrings\n",
    "\t- tqdm\n",
    "\t- error handling (try)\n",
    "- IDE\n",
    "- numpy\n",
    "\t- array creations (load from file)\n",
    "\t- slicing and indexing\n",
    "\t- operations (broadcasting, matrix) \n",
    "\t\t- diff from matlab\n",
    "\t- (adv) dtype (1.24)\n",
    "\t- (adv) cupy, numba\n",
    "- scikit\n",
    "\t- linear regression\n",
    "- matplotlib\n",
    "\t- seaborn colour\n",
    "\n",
    "- pandas / polars\n",
    "\t- creating df\n",
    "\t- load csv\n",
    "\t- data manipulation (dropnan, lambda, iloc, loc)\n",
    "\t- (adv) mutability of df\n",
    "\t- saving, pickle\n",
    "- xarray / dask\n",
    "\t- lazy loading compute\n",
    "\t- chunk\n",
    "\t- multi-dim\n",
    "\t- dataset vs data-array\n",
    "\t- data selection/slicing\n",
    "- more plots\n",
    "\t- seaborn (pandas)\n",
    "\t- cmocean\n",
    "- cartopy\n",
    "\t- projections\n",
    "\t- coastlines etc"
   ],
   "metadata": {
    "collapsed": false
   },
   "id": "60002a4ca0882a3b"
  }
 ],
 "metadata": {
  "kernelspec": {
   "display_name": "Python 3",
   "language": "python",
   "name": "python3"
  },
  "language_info": {
   "codemirror_mode": {
    "name": "ipython",
    "version": 2
   },
   "file_extension": ".py",
   "mimetype": "text/x-python",
   "name": "python",
   "nbconvert_exporter": "python",
   "pygments_lexer": "ipython2",
   "version": "2.7.6"
  }
 },
 "nbformat": 4,
 "nbformat_minor": 5
}
