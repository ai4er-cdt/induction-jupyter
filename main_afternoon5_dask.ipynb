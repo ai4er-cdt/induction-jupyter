{
 "cells": [
  {
   "cell_type": "markdown",
   "metadata": {},
   "source": [
    "# (adv) Dask Arrays with Xarray\n",
    "----\n",
    "\n",
    "Create by: @vichawans\n",
    "\n",
    "Adapt from: [Project Pythia](https://foundations.projectpythia.org/core/xarray/dask-arrays-xarray.html)\n",
    "\n",
    "Please check out Project Pythia for more info and also check out resources and reference at the end.\n",
    "\n",
    "----\n",
    "\n",
    "The scientific Python package known as Dask provides Dask Arrays: parallel, larger-than-memory, n-dimensional arrays that make use of blocked algorithms. They are analogous to Numpy arrays, but are distributed. These terms are defined below:\n",
    "\n",
    "*  **Parallel** code uses many or all of the cores on the computer running the code.\n",
    "*  **Larger-than-memory** refers to algorithms that break up data arrays into small pieces, operate on these pieces in an optimized fashion, and stream data from a storage device. This allows a user or programmer to work with datasets of a size larger than the available memory.\n",
    "*  A **blocked algorithm** speeds up large computations by converting them into a series of smaller computations.\n",
    "\n",
    "In this tutorial, we cover the use of Xarray to wrap Dask arrays. By using Dask arrays instead of Numpy arrays in Xarray data objects, it becomes possible to execute analysis code in parallel with much less code and effort.\n",
    "\n",
    "----"
   ]
  },
  {
   "cell_type": "markdown",
   "metadata": {},
   "source": [
    "Check out the tutorial here https://foundations.projectpythia.org/core/xarray/dask-arrays-xarray.html"
   ]
  }
 ],
 "metadata": {
  "language_info": {
   "name": "python"
  },
  "orig_nbformat": 4
 },
 "nbformat": 4,
 "nbformat_minor": 2
}
