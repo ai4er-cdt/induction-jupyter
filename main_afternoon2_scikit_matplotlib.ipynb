{
 "cells": [
  {
   "cell_type": "markdown",
   "metadata": {},
   "source": [
    "# Data analysis and visualization with `scikit` and `matplotlib`\n",
    "-----\n",
    "\n",
    "Created by: @vichawans\n",
    "\n",
    "In this tutorial, we will use `numpy` to download global mean surface temperature data and then perform linear regression using `scikit` and plot the results with `matplotlib`, using colour schemes from `seaborn`\n",
    "\n",
    "- scikit\n",
    "\t- linear regression\n",
    "- matplotlib\n",
    "\t- seaborn colour"
   ]
  },
  {
   "cell_type": "markdown",
   "metadata": {},
   "source": [
    "### Imports\n",
    "\n"
   ]
  },
  {
   "cell_type": "code",
   "execution_count": null,
   "metadata": {},
   "outputs": [],
   "source": [
    "import numpy as np"
   ]
  }
 ],
 "metadata": {
  "language_info": {
   "name": "python"
  },
  "orig_nbformat": 4
 },
 "nbformat": 4,
 "nbformat_minor": 2
}
